{
  "cells": [
    {
      "cell_type": "code",
      "execution_count": 1,
      "metadata": {
        "id": "sX82dgiR77qy"
      },
      "outputs": [],
      "source": [
        "from statsmodels.tsa.arima_process import ArmaProcess\n",
        "import numpy as np"
      ]
    },
    {
      "cell_type": "code",
      "execution_count": 2,
      "metadata": {
        "id": "IPyQxR6nCwck"
      },
      "outputs": [],
      "source": [
        "ar = np.array([1.5,- 0.7])\n",
        "ma = np.array([0.6])\n",
        "ARMA_vd1=ArmaProcess.from_coeffs(ar, ma)"
      ]
    },
    {
      "cell_type": "markdown",
      "metadata": {
        "id": "wlNg-wDaA-Qy"
      },
      "source": [
        "Phân tích mô hình ARMA(2,1) như sau"
      ]
    },
    {
      "cell_type": "code",
      "execution_count": 5,
      "metadata": {
        "colab": {
          "base_uri": "https://localhost:8080/"
        },
        "id": "JgMBseLcDc4I",
        "outputId": "18ca32a3-3556-4117-bdcd-4b1283500fce"
      },
      "outputs": [
        {
          "output_type": "stream",
          "name": "stdout",
          "text": [
            "Tính khả nghịch: True\n",
            "Tính dừng của chuỗi thời gian: True\n",
            "Đa thức phần MA: 1.0 + 0.6·x\n",
            "Nghiệm của đa thức phần MA [-1.66666667]\n",
            "Đa thức phần AR: 1.0 - 1.5·x + 0.7·x²\n",
            "Nghiệm của đa thức phần AR [1.07142857-0.52972846j 1.07142857+0.52972846j]\n",
            " Chuyển ARMA thành MA [1.      2.1     2.45    2.205   1.5925  0.84525]\n",
            " Chuyển ARMA thành AR [ 1.         -2.1         1.96       -1.176       0.7056     -0.42336\n",
            "  0.254016   -0.1524096   0.09144576 -0.05486746]\n"
          ]
        }
      ],
      "source": [
        "print('Tính khả nghịch:', ARMA_vd1.isinvertible)\n",
        "print('Tính dừng của chuỗi thời gian:', ARMA_vd1.isstationary)\n",
        "print('Đa thức phần MA:', ARMA_vd1.mapoly)\n",
        "print('Nghiệm của đa thức phần MA', ARMA_vd1.maroots)\n",
        "print('Đa thức phần AR:', ARMA_vd1.arpoly)\n",
        "print('Nghiệm của đa thức phần AR', ARMA_vd1.arroots)\n",
        "\n",
        "print( ' Chuyển ARMA thành MA', ARMA_vd1.arma2ma(6))\n",
        "\n",
        "print(' Chuyển ARMA thành AR', ARMA_vd1.arma2ar(10))"
      ]
    },
    {
      "cell_type": "code",
      "execution_count": 4,
      "metadata": {
        "id": "KeiR75zHDiPk",
        "colab": {
          "base_uri": "https://localhost:8080/"
        },
        "outputId": "ddab0d51-b34c-4b8a-c6a8-06446a0376a0"
      },
      "outputs": [
        {
          "output_type": "stream",
          "name": "stdout",
          "text": [
            "[-1.37459353 -2.74096756 -4.52313785 ... -2.33143357 -0.71428395\n",
            "  1.76025332]\n"
          ]
        }
      ],
      "source": [
        "ARMA_data = ARMA_vd1.generate_sample(nsample=10000)\n",
        "print(ARMA_data)"
      ]
    },
    {
      "cell_type": "markdown",
      "metadata": {
        "id": "T6-n3qkR_8wB"
      },
      "source": [
        "Bài tập:\n",
        "Nhập tham số $\\alpha=$ ngày sinh; $\\beta=$ tháng sinh.\n",
        "\n",
        "a) Hãy phân tích mô hình ARMA(1,1) với tham số $\n",
        "\\theta_1=\\alpha\\%; \\phi_1=\\beta\\%;$\n",
        "\n",
        "b) Hãy phân tích mô hình ARMA(2,2) với tham số $\n",
        "\\theta_1=\\alpha\\%; \\theta_2=\\beta\\%;  \\phi_1=\\beta\\%; \\phi_2=\\alpha\\%$\n"
      ]
    },
    {
      "cell_type": "code",
      "execution_count": 6,
      "metadata": {
        "colab": {
          "base_uri": "https://localhost:8080/"
        },
        "id": "V_MheqcIJuYk",
        "outputId": "4ccbd1cc-eb6e-4088-c5df-0b6f5a58ea4d"
      },
      "outputs": [
        {
          "output_type": "stream",
          "name": "stdout",
          "text": [
            "Tính khả nghịch: True\n",
            "Tính dừng của chuỗi thời gian: True\n",
            "Đa thức phần MA: 1.0 + 0.07·x\n",
            "Nghiệm của đa thức phần MA [-14.28571429]\n",
            "Đa thức phần AR: 1.0 - 0.19·x\n",
            "Nghiệm của đa thức phần AR [5.26315789]\n",
            " Chuyển ARMA thành MA [1.000000e+00 2.600000e-01 4.940000e-02 9.386000e-03 1.783340e-03\n",
            " 3.388346e-04]\n",
            " Chuyển ARMA thành AR [ 1.00000000e+00 -2.60000000e-01  1.82000000e-02 -1.27400000e-03\n",
            "  8.91800000e-05 -6.24260000e-06  4.36982000e-07 -3.05887400e-08\n",
            "  2.14121180e-09 -1.49884826e-10]\n",
            "[-0.67804086  0.06867781 -1.09029239 ...  1.74434222  1.00257686\n",
            " -1.78187303]\n"
          ]
        }
      ],
      "source": [
        "# alpha = 19, beta = 7\n",
        "ar = np.array([0.19])\n",
        "ma = np.array([0.07])\n",
        "ARMA_vda=ArmaProcess.from_coeffs(ar, ma)\n",
        "\n",
        "print('Tính khả nghịch:', ARMA_vda.isinvertible)\n",
        "print('Tính dừng của chuỗi thời gian:', ARMA_vda.isstationary)\n",
        "print('Đa thức phần MA:', ARMA_vda.mapoly)\n",
        "print('Nghiệm của đa thức phần MA', ARMA_vda.maroots)\n",
        "print('Đa thức phần AR:', ARMA_vda.arpoly)\n",
        "print('Nghiệm của đa thức phần AR', ARMA_vda.arroots)\n",
        "\n",
        "print( ' Chuyển ARMA thành MA', ARMA_vda.arma2ma(6))\n",
        "\n",
        "print(' Chuyển ARMA thành AR', ARMA_vda.arma2ar(10))\n",
        "\n",
        "ARMA_data_a = ARMA_vda.generate_sample(nsample=10000)\n",
        "print(ARMA_data_a)"
      ]
    },
    {
      "cell_type": "code",
      "source": [
        "# alpha1 = 0.19, alpha2 = 0.07, phi1 = 0.07, phi2 = 0.19\n",
        "ar = np.array([0.19, 0.07])\n",
        "ma = np.array([0.07, 0.19])\n",
        "ARMA_vdb=ArmaProcess.from_coeffs(ar, ma)\n",
        "\n",
        "print('Tính khả nghịch:', ARMA_vdb.isinvertible)\n",
        "print('Tính dừng của chuỗi thời gian:', ARMA_vdb.isstationary)\n",
        "print('Đa thức phần MA:', ARMA_vdb.mapoly)\n",
        "print('Nghiệm của đa thức phần MA', ARMA_vdb.maroots)\n",
        "print('Đa thức phần AR:', ARMA_vdb.arpoly)\n",
        "print('Nghiệm của đa thức phần AR', ARMA_vdb.arroots)\n",
        "\n",
        "print( ' Chuyển ARMA thành MA', ARMA_vdb.arma2ma(6))\n",
        "\n",
        "print(' Chuyển ARMA thành AR', ARMA_vdb.arma2ar(10))\n",
        "\n",
        "ARMA_data_b = ARMA_vdb.generate_sample(nsample=10000)\n",
        "print(ARMA_data_b)"
      ],
      "metadata": {
        "colab": {
          "base_uri": "https://localhost:8080/"
        },
        "id": "Gxe5jdrIOpEP",
        "outputId": "0e71a84d-eeee-4f7c-e35c-9c71670e5d0b"
      },
      "execution_count": 7,
      "outputs": [
        {
          "output_type": "stream",
          "name": "stdout",
          "text": [
            "Tính khả nghịch: True\n",
            "Tính dừng của chuỗi thời gian: True\n",
            "Đa thức phần MA: 1.0 + 0.07·x + 0.19·x²\n",
            "Nghiệm của đa thức phần MA [-0.18421053-2.28674974j -0.18421053+2.28674974j]\n",
            "Đa thức phần AR: 1.0 - 0.19·x - 0.07·x²\n",
            "Nghiệm của đa thức phần AR [-5.37305508  2.65876937]\n",
            " Chuyển ARMA thành MA [1.         0.26       0.3094     0.076986   0.03628534 0.01228323]\n",
            " Chuyển ARMA thành AR [ 1.00000000e+00 -2.60000000e-01 -2.41800000e-01  6.63260000e-02\n",
            "  4.12991800e-02 -1.54928826e-02 -6.76234242e-03  3.41701166e-03\n",
            "  1.04565424e-03 -7.22428013e-04]\n",
            "[ 1.32361411 -0.81616096  0.83895389 ...  0.13248006  2.46719388\n",
            "  1.99623283]\n"
          ]
        }
      ]
    }
  ],
  "metadata": {
    "colab": {
      "provenance": []
    },
    "kernelspec": {
      "display_name": "Python 3 (ipykernel)",
      "language": "python",
      "name": "python3"
    },
    "language_info": {
      "codemirror_mode": {
        "name": "ipython",
        "version": 3
      },
      "file_extension": ".py",
      "mimetype": "text/x-python",
      "name": "python",
      "nbconvert_exporter": "python",
      "pygments_lexer": "ipython3",
      "version": "3.11.3"
    }
  },
  "nbformat": 4,
  "nbformat_minor": 0
}